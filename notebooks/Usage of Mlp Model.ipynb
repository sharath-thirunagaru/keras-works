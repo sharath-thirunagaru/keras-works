{
 "cells": [
  {
   "cell_type": "code",
   "execution_count": 1,
   "metadata": {},
   "outputs": [
    {
     "name": "stderr",
     "output_type": "stream",
     "text": [
      "/Users/sharath/miniconda3/envs/keras_play/lib/python3.6/site-packages/h5py/__init__.py:36: FutureWarning: Conversion of the second argument of issubdtype from `float` to `np.floating` is deprecated. In future, it will be treated as `np.float64 == np.dtype(float).type`.\n",
      "  from ._conv import register_converters as _register_converters\n",
      "Using TensorFlow backend.\n"
     ]
    }
   ],
   "source": [
    "from dl_works import MlpModel"
   ]
  },
  {
   "cell_type": "code",
   "execution_count": 2,
   "metadata": {},
   "outputs": [],
   "source": [
    "model = MlpModel()"
   ]
  },
  {
   "cell_type": "code",
   "execution_count": 3,
   "metadata": {},
   "outputs": [
    {
     "name": "stdout",
     "output_type": "stream",
     "text": [
      "Epoch 1/10\n",
      "120/120 [==============================] - 0s 1ms/step - loss: 1.0134 - acc: 0.4917\n",
      "Epoch 2/10\n",
      "120/120 [==============================] - 0s 50us/step - loss: 0.8370 - acc: 0.7000\n",
      "Epoch 3/10\n",
      "120/120 [==============================] - 0s 55us/step - loss: 0.7196 - acc: 0.6750\n",
      "Epoch 4/10\n",
      "120/120 [==============================] - 0s 52us/step - loss: 0.6493 - acc: 0.7500\n",
      "Epoch 5/10\n",
      "120/120 [==============================] - 0s 56us/step - loss: 0.6188 - acc: 0.6833\n",
      "Epoch 6/10\n",
      "120/120 [==============================] - 0s 57us/step - loss: 0.5209 - acc: 0.7917\n",
      "Epoch 7/10\n",
      "120/120 [==============================] - 0s 55us/step - loss: 0.4821 - acc: 0.8333\n",
      "Epoch 8/10\n",
      "120/120 [==============================] - 0s 49us/step - loss: 0.4617 - acc: 0.8250\n",
      "Epoch 9/10\n",
      "120/120 [==============================] - 0s 51us/step - loss: 0.4434 - acc: 0.7583\n",
      "Epoch 10/10\n",
      "120/120 [==============================] - 0s 52us/step - loss: 0.4121 - acc: 0.8333\n"
     ]
    }
   ],
   "source": [
    "model.train(epochs=10)"
   ]
  },
  {
   "cell_type": "code",
   "execution_count": 4,
   "metadata": {
    "collapsed": true
   },
   "outputs": [],
   "source": [
    "model2 = MlpModel()"
   ]
  },
  {
   "cell_type": "code",
   "execution_count": 5,
   "metadata": {},
   "outputs": [
    {
     "name": "stdout",
     "output_type": "stream",
     "text": [
      "Epoch 1/10\n",
      "120/120 [==============================] - 0s 1ms/step - loss: 1.2098 - acc: 0.4750\n",
      "Epoch 2/10\n",
      "120/120 [==============================] - 0s 58us/step - loss: 0.8146 - acc: 0.7583\n",
      "Epoch 3/10\n",
      "120/120 [==============================] - 0s 54us/step - loss: 0.7557 - acc: 0.7583\n",
      "Epoch 4/10\n",
      "120/120 [==============================] - 0s 45us/step - loss: 0.6594 - acc: 0.7250\n",
      "Epoch 5/10\n",
      "120/120 [==============================] - 0s 52us/step - loss: 0.6363 - acc: 0.6833\n",
      "Epoch 6/10\n",
      "120/120 [==============================] - 0s 50us/step - loss: 0.5262 - acc: 0.7583\n",
      "Epoch 7/10\n",
      "120/120 [==============================] - 0s 57us/step - loss: 0.5064 - acc: 0.7417\n",
      "Epoch 8/10\n",
      "120/120 [==============================] - 0s 59us/step - loss: 0.4535 - acc: 0.8583\n",
      "Epoch 9/10\n",
      "120/120 [==============================] - 0s 51us/step - loss: 0.4849 - acc: 0.7583\n",
      "Epoch 10/10\n",
      "120/120 [==============================] - 0s 55us/step - loss: 0.4370 - acc: 0.7917\n"
     ]
    }
   ],
   "source": [
    "model2.train(epochs=10)"
   ]
  }
 ],
 "metadata": {
  "kernelspec": {
   "display_name": "Python3 (keras)",
   "language": "python",
   "name": "keras_play"
  },
  "language_info": {
   "codemirror_mode": {
    "name": "ipython",
    "version": 3
   },
   "file_extension": ".py",
   "mimetype": "text/x-python",
   "name": "python",
   "nbconvert_exporter": "python",
   "pygments_lexer": "ipython3",
   "version": "3.6.4"
  }
 },
 "nbformat": 4,
 "nbformat_minor": 2
}
